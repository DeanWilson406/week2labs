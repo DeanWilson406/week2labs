{
 "cells": [
  {
   "cell_type": "markdown",
   "id": "baae87a4-c6c7-4b1d-a3ab-859921419a20",
   "metadata": {},
   "source": [
    "## Week 2 Independent Lab\n",
    "* By: Dean Wilson\n",
    "* Course: BGEN 632: Graduate Introduction to Python\n",
    "* Date: 20230310\n",
    "### Welcome to my Fahrenheit to Celsius converter!"
   ]
  },
  {
   "cell_type": "code",
   "execution_count": 62,
   "id": "576c1f96-e760-4bcf-9c6a-ba015c38dc19",
   "metadata": {},
   "outputs": [],
   "source": [
    "# Create Fahrenheit and Celsius\n",
    "farhenheit = 0.0\n",
    "celsius = 0.0"
   ]
  },
  {
   "cell_type": "code",
   "execution_count": 63,
   "id": "1aad55eb-415f-47be-a01b-409d23124c28",
   "metadata": {},
   "outputs": [
    {
     "name": "stdin",
     "output_type": "stream",
     "text": [
      "Please provide a value, in Celsius, to convert:\n",
      " 37\n"
     ]
    }
   ],
   "source": [
    "# Request User for value in Celsius\n",
    "celsius = float(input(\"Please provide a value, in Celsius, to convert:\\n\"))    # The reason I used float is due to decimals being required for accurate conversions. "
   ]
  },
  {
   "cell_type": "code",
   "execution_count": 64,
   "id": "c7c8fcb6-9526-4a31-91f4-b758ad4c6a98",
   "metadata": {},
   "outputs": [],
   "source": [
    "fahrenheit = (9 / 5) * celsius + 32"
   ]
  },
  {
   "cell_type": "code",
   "execution_count": 65,
   "id": "8c3aaaec-2545-43bd-9834-0272b92451d7",
   "metadata": {},
   "outputs": [
    {
     "name": "stdout",
     "output_type": "stream",
     "text": [
      "37.00 degrees celsius is 98.60 degrees fahrenheit\n"
     ]
    }
   ],
   "source": [
    "print(f\"{celsius:.2f} degrees celsius is {fahrenheit:.2f} degrees fahrenheit\")    #added:.2f to limit the decimal place to two places."
   ]
  },
  {
   "cell_type": "code",
   "execution_count": 66,
   "id": "6d861bbe-bdab-4664-8bad-f766dcfdf597",
   "metadata": {},
   "outputs": [
    {
     "name": "stdout",
     "output_type": "stream",
     "text": [
      "98\n",
      "<class 'int'>\n"
     ]
    }
   ],
   "source": [
    "int_fahrenheit = int(fahrenheit)\n",
    "print(int_fahrenheit)\n",
    "print(type(int_fahrenheit))"
   ]
  },
  {
   "cell_type": "markdown",
   "id": "526df44f-96eb-4a5c-b4cc-318ee384ada3",
   "metadata": {},
   "source": [
    "## References\n",
    "*ChatGPT. (2025, March 9). Conversation with ChatGPT about Python Coding. OpenAI. https://chatgpt.com/share/67cebaa7-6734-8001-818c-ad6330640036"
   ]
  }
 ],
 "metadata": {
  "kernelspec": {
   "display_name": "Python 3 (ipykernel)",
   "language": "python",
   "name": "python3"
  },
  "language_info": {
   "codemirror_mode": {
    "name": "ipython",
    "version": 3
   },
   "file_extension": ".py",
   "mimetype": "text/x-python",
   "name": "python",
   "nbconvert_exporter": "python",
   "pygments_lexer": "ipython3",
   "version": "3.13.2"
  }
 },
 "nbformat": 4,
 "nbformat_minor": 5
}
