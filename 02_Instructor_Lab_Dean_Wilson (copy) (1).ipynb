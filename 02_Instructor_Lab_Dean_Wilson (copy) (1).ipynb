{
  "metadata": {
    "kernelspec": {
      "name": "python",
      "display_name": "Python (Pyodide)",
      "language": "python"
    },
    "language_info": {
      "codemirror_mode": {
        "name": "python",
        "version": 3
      },
      "file_extension": ".py",
      "mimetype": "text/x-python",
      "name": "python",
      "nbconvert_exporter": "python",
      "pygments_lexer": "ipython3",
      "version": "3.8"
    }
  },
  "nbformat_minor": 5,
  "nbformat": 4,
  "cells": [
    {
      "id": "136947c4-e057-4395-b873-a989c9008307",
      "cell_type": "markdown",
      "source": "UM MSBA - BGEN 632\n\n# Week 2 Instructor-led Lab\n\nIn this assignment you will create basic code showcasing the concepts you learned about in the tutorial. \n\n**Create Code cells below this Markdown cell to complete the assignment. Write and run your code. To get full points, your submitted notebook must include saved output in addition to written code.** \n\nFor this assignment, you are not required to create any Markdown cells but you are encouraged to do so to improve the aesthetics and organization of your lab submission. \n\nAs stated in the syllabus, you <ins>must</ins> include information about your use of online resources to complete assignments, including chatbots like ChatGPT. You can include reference information within your notebooks and/or within separate files pushed to your repo on GitHub. Failure to disclose the use of online resources is a violation of course policy.\n\n## Assigning Values\n\nFor this portion of the assignment, you will create variables in your notebook. You will assign a value to each variable. Please perform the following tasks and create each variable by assigning the following values:\n\n* my_int assign it a number between 1 and 20, inclusive.\n* long_a assign it the number 6,323,527,192.\n* float_pi assign it the number 3.14159\n* my_double assign it a fractional number with 13 decimals.\n* decimal_a assign it a fractional number with 20 decimals.\n* big_griz assign it the value G (uppercase).\n* my_hello assign it a greeting to the entire class.\n* my_goodbye assign it a farewell to your class.\n\n## Single Line Comments\n\nAt the end of each variable, on the same line, place a single-line comment with a short description of each variable. For example, it would look like this:\n\n```\nnew_double = 38.936921934     # A double with 9 decimal places\n```\n\n## Print Output\n\nNow that you have assigned values to your variables, let's print them. Output each variable individually.\n\n## Type Conversion\n\nThe last task you have for this lab involves type conversion. Create new variables with the following types, names, and values. Use an explicit type conversion.\n\n* `int` named my_new_int with a number between 1 and 20, inclusive.\n* `float` named float_b with value 3.14159.\n  \nOutput both variables. \n\n---",
      "metadata": {
        "editable": true,
        "slideshow": {
          "slide_type": ""
        },
        "tags": []
      }
    },
    {
      "id": "66d09615-781d-4778-b642-bacbb9f65edd",
      "cell_type": "markdown",
      "source": "# WEEK 2 Instructor Lab: Dean Wilson",
      "metadata": {}
    },
    {
      "id": "48b71bca-b4b7-44c0-8639-35e13fb5bb3e",
      "cell_type": "markdown",
      "source": "## Assigning Values",
      "metadata": {}
    },
    {
      "id": "5b55a6e2-93ba-480d-afeb-540f3730469c",
      "cell_type": "code",
      "source": "my_int = 9    # integer assigned is 9",
      "metadata": {
        "trusted": true
      },
      "outputs": [],
      "execution_count": 1
    },
    {
      "id": "e75ca192-e3b5-4e76-bfe3-c3719c282e5e",
      "cell_type": "code",
      "source": "my_int",
      "metadata": {
        "trusted": true
      },
      "outputs": [
        {
          "execution_count": 2,
          "output_type": "execute_result",
          "data": {
            "text/plain": "9"
          },
          "metadata": {}
        }
      ],
      "execution_count": 2
    },
    {
      "id": "d1158b1a-f3fe-48d0-bf7f-61bc453a0c13",
      "cell_type": "code",
      "source": "long_a = 6323527192    # long number is 6,323,527,192",
      "metadata": {
        "trusted": true
      },
      "outputs": [],
      "execution_count": 3
    },
    {
      "id": "8d341f1b-77c9-4121-80c9-2f14af332e97",
      "cell_type": "code",
      "source": "print(f\"{long_a:,}\")    # Unsure if comma's were required",
      "metadata": {
        "trusted": true
      },
      "outputs": [
        {
          "name": "stdout",
          "output_type": "stream",
          "text": "6,323,527,192\n"
        }
      ],
      "execution_count": 4
    },
    {
      "id": "1cdc9b19-f42c-4c9c-9da8-d294cbee0385",
      "cell_type": "code",
      "source": "float_pi = 3.14159    # Pi with five decimal places",
      "metadata": {
        "trusted": true
      },
      "outputs": [],
      "execution_count": 5
    },
    {
      "id": "fc608e82-4be1-4e79-aac2-383ac9f7bcc3",
      "cell_type": "code",
      "source": "float_pi",
      "metadata": {
        "trusted": true
      },
      "outputs": [
        {
          "execution_count": 6,
          "output_type": "execute_result",
          "data": {
            "text/plain": "3.14159"
          },
          "metadata": {}
        }
      ],
      "execution_count": 6
    },
    {
      "id": "2548a870-124a-434a-9cda-d69c7fe31c72",
      "cell_type": "code",
      "source": "my_double = 3.1302013711775    # Fractional number with 13 decimal places",
      "metadata": {
        "trusted": true
      },
      "outputs": [],
      "execution_count": 7
    },
    {
      "id": "84d9890c-7618-423a-b00d-2b02f822ee98",
      "cell_type": "code",
      "source": "my_double",
      "metadata": {
        "trusted": true
      },
      "outputs": [
        {
          "execution_count": 8,
          "output_type": "execute_result",
          "data": {
            "text/plain": "3.1302013711775"
          },
          "metadata": {}
        }
      ],
      "execution_count": 8
    },
    {
      "id": "e5d899f9-e4d1-42e6-aea1-f169a28ad51d",
      "cell_type": "code",
      "source": "decimal_a = 2.12345678912345678912    # decimal with 20 decimal places, even though float only shows about 16 decimal places",
      "metadata": {
        "trusted": true
      },
      "outputs": [],
      "execution_count": 9
    },
    {
      "id": "b988cad0-9f0b-4651-9311-9416d9a2b666",
      "cell_type": "code",
      "source": "decimal_a",
      "metadata": {
        "trusted": true
      },
      "outputs": [
        {
          "execution_count": 10,
          "output_type": "execute_result",
          "data": {
            "text/plain": "2.123456789123457"
          },
          "metadata": {}
        }
      ],
      "execution_count": 10
    },
    {
      "id": "f0158fae-af5d-4c0d-95af-75986f35ca6b",
      "cell_type": "code",
      "source": "big_griz = 'G'    # value \"G\" assigned to big_griz",
      "metadata": {
        "trusted": true
      },
      "outputs": [],
      "execution_count": 11
    },
    {
      "id": "038d1296-44ec-4959-8487-8561c87bf404",
      "cell_type": "code",
      "source": "big_griz",
      "metadata": {
        "trusted": true
      },
      "outputs": [
        {
          "execution_count": 12,
          "output_type": "execute_result",
          "data": {
            "text/plain": "'G'"
          },
          "metadata": {}
        }
      ],
      "execution_count": 12
    },
    {
      "id": "4218c9ef-ffcc-4bee-a258-18bca5caee31",
      "cell_type": "code",
      "source": "my_hello = 'Hello everyone, welcome to Graduate Introduction to Python'    # Introduction to classmates",
      "metadata": {
        "trusted": true
      },
      "outputs": [],
      "execution_count": 13
    },
    {
      "id": "3bc9f530-9cf6-4ba8-b1ba-d005a6612384",
      "cell_type": "code",
      "source": "my_hello",
      "metadata": {
        "trusted": true
      },
      "outputs": [
        {
          "execution_count": 14,
          "output_type": "execute_result",
          "data": {
            "text/plain": "'Hello everyone, welcome to Graduate Introduction to Python'"
          },
          "metadata": {}
        }
      ],
      "execution_count": 14
    },
    {
      "id": "88a46b73-e734-4d5c-b56e-1a81811f2ea5",
      "cell_type": "code",
      "source": "my_goodbye = 'Have a great evening everyone'    # Farewell to classmates",
      "metadata": {
        "trusted": true
      },
      "outputs": [],
      "execution_count": 15
    },
    {
      "id": "155c8bf7-cdc6-4f68-a248-70a7bebf993c",
      "cell_type": "code",
      "source": "my_goodbye",
      "metadata": {
        "trusted": true
      },
      "outputs": [
        {
          "execution_count": 16,
          "output_type": "execute_result",
          "data": {
            "text/plain": "'Have a great evening everyone'"
          },
          "metadata": {}
        }
      ],
      "execution_count": 16
    },
    {
      "id": "fd6f6fa9-15e7-4933-9b92-16815eb23264",
      "cell_type": "markdown",
      "source": "## Type Conversion",
      "metadata": {}
    },
    {
      "id": "eab93fba-7b34-4209-92b9-edcfcee437ac",
      "cell_type": "code",
      "source": "my_new_int = int(3)    # new integer assigned as 3, with prefix int ",
      "metadata": {
        "trusted": true
      },
      "outputs": [],
      "execution_count": 17
    },
    {
      "id": "112db0ed-5bf8-411c-947b-37f8ff027cb4",
      "cell_type": "code",
      "source": "my_new_int",
      "metadata": {
        "trusted": true
      },
      "outputs": [
        {
          "execution_count": 18,
          "output_type": "execute_result",
          "data": {
            "text/plain": "3"
          },
          "metadata": {}
        }
      ],
      "execution_count": 18
    },
    {
      "id": "50bf945d-8182-46ed-b897-56f1f74d86ce",
      "cell_type": "code",
      "source": "float_b = float(float_pi)    # float created using float_pi",
      "metadata": {
        "trusted": true
      },
      "outputs": [],
      "execution_count": 19
    },
    {
      "id": "0109dd1e-7264-4575-9ef6-f863f3d081c7",
      "cell_type": "code",
      "source": "float_b",
      "metadata": {
        "trusted": true
      },
      "outputs": [
        {
          "execution_count": 20,
          "output_type": "execute_result",
          "data": {
            "text/plain": "3.14159"
          },
          "metadata": {}
        }
      ],
      "execution_count": 20
    },
    {
      "id": "bc7acb76-a4e8-4971-8615-a81413532581",
      "cell_type": "markdown",
      "source": "## References",
      "metadata": {}
    },
    {
      "id": "a3d326fc-7e2d-4fee-ad3c-dfe3aade21b9",
      "cell_type": "markdown",
      "source": "### ChatGPT. (2025, March 9). Conversation with ChatGPT about Python Coding. OpenAI. https://chatgpt.com/share/67ce6896-50a0-8001-b77e-39f2709a73e9",
      "metadata": {}
    },
    {
      "id": "66d3ce77-e38e-45b4-a15a-9f4a3bd8e19a",
      "cell_type": "code",
      "source": "",
      "metadata": {
        "trusted": true
      },
      "outputs": [],
      "execution_count": null
    }
  ]
}